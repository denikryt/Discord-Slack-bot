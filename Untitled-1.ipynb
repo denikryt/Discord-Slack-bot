{
 "cells": [
  {
   "cell_type": "code",
   "execution_count": 1,
   "metadata": {},
   "outputs": [
    {
     "name": "stdout",
     "output_type": "stream",
     "text": [
      "Удалено 24 документов из коллекции 'Collection(Database(MongoClient(host=['hacklab-cluster-shard-00-02.znyov.mongodb.net:27017', 'hacklab-cluster-shard-00-01.znyov.mongodb.net:27017', 'hacklab-cluster-shard-00-00.znyov.mongodb.net:27017'], document_class=dict, tz_aware=False, connect=True, retrywrites=True, w='majority', appname='Hacklab-Cluster', authsource='admin', replicaset='atlas-2kt1ys-shard-0', tls=True), 'HACKLAB'), 'Slack-Discord messages')'.\n"
     ]
    }
   ],
   "source": [
    "from pymongo import MongoClient\n",
    "import os\n",
    "\n",
    "# ----------- MongoDB Configuration -----------\n",
    "mongo_client = MongoClient(os.environ.get('MONGO_DB'))  # MongoDB URI из переменных окружения\n",
    "db = mongo_client['HACKLAB']  # Имя базы данных\n",
    "collection = db['Slack-Discord messages']  # Имя коллекции\n",
    "\n",
    "# Удаляем все записи из коллекции\n",
    "result = collection.delete_many({})\n",
    "\n",
    "# Выводим количество удаленных документов\n",
    "print(f\"Удалено {result.deleted_count} документов из коллекции '{collection}'.\")\n",
    "\n",
    "# Закрываем подключение к клиенту\n",
    "mongo_client.close()\n"
   ]
  }
 ],
 "metadata": {
  "kernelspec": {
   "display_name": "env",
   "language": "python",
   "name": "python3"
  },
  "language_info": {
   "codemirror_mode": {
    "name": "ipython",
    "version": 3
   },
   "file_extension": ".py",
   "mimetype": "text/x-python",
   "name": "python",
   "nbconvert_exporter": "python",
   "pygments_lexer": "ipython3",
   "version": "3.9.7"
  }
 },
 "nbformat": 4,
 "nbformat_minor": 2
}
